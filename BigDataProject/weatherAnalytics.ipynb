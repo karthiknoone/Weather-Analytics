{
 "cells": [
  {
   "cell_type": "code",
   "execution_count": 2,
   "id": "6a6ecdb0-3f5a-4c99-be22-83df51585d0d",
   "metadata": {},
   "outputs": [],
   "source": [
    "import findspark\n",
    "findspark.init()\n",
    "\n",
    "import pyspark\n"
   ]
  },
  {
   "cell_type": "code",
   "execution_count": 3,
   "id": "c857253f-020a-4000-bc58-8a31a7c2aa00",
   "metadata": {},
   "outputs": [],
   "source": [
    "import pyspark\n",
    "from pyspark.sql import SparkSession"
   ]
  },
  {
   "cell_type": "code",
   "execution_count": 4,
   "id": "661e0044-d052-46a9-9f95-75f9b2c89be0",
   "metadata": {},
   "outputs": [
    {
     "name": "stdout",
     "output_type": "stream",
     "text": [
      "+-----+\n",
      "|hello|\n",
      "+-----+\n",
      "|spark|\n",
      "+-----+\n",
      "\n"
     ]
    }
   ],
   "source": [
    "spark = SparkSession.builder.getOrCreate()\n",
    "df = spark.sql(\"select 'spark' as hello \")\n",
    "df.show()"
   ]
  },
  {
   "cell_type": "code",
   "execution_count": 5,
   "id": "540cbd3e-31d8-4e9d-b703-16b7b4655ed8",
   "metadata": {},
   "outputs": [
    {
     "name": "stdout",
     "output_type": "stream",
     "text": [
      "Dataframe Shape:  (26078, 8)\n"
     ]
    }
   ],
   "source": [
    "weather = spark.read.csv('export.csv', inferSchema=True, header=True)\n",
    "#Checking out the dataframe to display  number of rows x columns\n",
    "print(\"Dataframe Shape: \", (weather.count(), len(weather.columns)))"
   ]
  },
  {
   "cell_type": "code",
   "execution_count": 7,
   "id": "ff757341-e41f-4a77-9202-61eb253b4e69",
   "metadata": {},
   "outputs": [],
   "source": [
    "#GOAL:1\n",
    "#Calculate the mean rainfall from all stations for the given years.\n",
    "\n",
    "from pyspark.sql.functions import col\n",
    "goupList =[\"station\",\"year\"]\n",
    "weather.groupby(goupList).agg({\"rain\": \"mean\"}).orderBy(goupList).write.csv(\"goal1\")"
   ]
  },
  {
   "cell_type": "code",
   "execution_count": 8,
   "id": "7b748d9e-5f1a-41c7-bb86-72a2da60f5f4",
   "metadata": {},
   "outputs": [
    {
     "name": "stdout",
     "output_type": "stream",
     "text": [
      "+----+------------------+\n",
      "|year|         avg(rain)|\n",
      "+----+------------------+\n",
      "|1957| 79.89166666666667|\n",
      "|1958| 89.92500000000001|\n",
      "|1959| 83.81666666666665|\n",
      "|1960|           107.675|\n",
      "|1961|             80.95|\n",
      "|1962| 67.59166666666667|\n",
      "|1963| 66.35000000000001|\n",
      "|1964|56.741666666666674|\n",
      "|1965| 75.14166666666667|\n",
      "|1966|             80.55|\n",
      "|1967| 80.46666666666667|\n",
      "|1968| 67.44999999999999|\n",
      "|1969| 66.69166666666666|\n",
      "|1970|              73.1|\n",
      "|1971| 73.37499999999999|\n",
      "|1972| 75.91666666666667|\n",
      "|1973| 62.98333333333334|\n",
      "|1974| 83.04166666666667|\n",
      "|1975|              54.6|\n",
      "|1976|             60.75|\n",
      "|1977| 74.38333333333334|\n",
      "|1978| 61.21666666666667|\n",
      "|1979| 81.30000000000001|\n",
      "|1980| 68.94166666666666|\n",
      "|1981| 78.54166666666667|\n",
      "|1982| 76.46666666666667|\n",
      "|1983| 68.47500000000001|\n",
      "|1984| 71.05833333333334|\n",
      "|1985| 72.58333333333333|\n",
      "|1986| 73.74166666666666|\n",
      "|1987| 70.97500000000001|\n",
      "|1988| 74.84166666666665|\n",
      "|1989| 65.35833333333333|\n",
      "|1990| 62.64166666666668|\n",
      "|1991| 64.12500000000001|\n",
      "|1992|            76.125|\n",
      "|1993| 82.26666666666667|\n",
      "|1994| 87.58333333333333|\n",
      "|1995| 69.06666666666666|\n",
      "|1996| 57.74166666666667|\n",
      "|1997|              74.3|\n",
      "|1998| 80.86666666666667|\n",
      "|1999| 79.54166666666667|\n",
      "|2000|             92.55|\n",
      "|2001| 79.25714285714285|\n",
      "|2002| 91.12727272727271|\n",
      "|2003| 59.01666666666667|\n",
      "|2004| 77.93636363636364|\n",
      "|2005| 68.56666666666666|\n",
      "|2006| 71.63333333333333|\n",
      "|2007| 74.36666666666666|\n",
      "|2008| 85.44166666666666|\n",
      "|2009| 84.16666666666664|\n",
      "|2010| 59.48333333333333|\n",
      "|2011| 61.38333333333333|\n",
      "|2012| 96.06666666666666|\n",
      "|2013| 72.79166666666667|\n",
      "|2014| 87.16666666666667|\n",
      "|2015|             84.85|\n",
      "|2016| 70.16666666666667|\n",
      "|2017| 84.03333333333335|\n",
      "|2018| 83.68333333333334|\n",
      "|2019| 85.93333333333334|\n",
      "|2020|              74.5|\n",
      "+----+------------------+\n",
      "\n"
     ]
    }
   ],
   "source": [
    "#Goal 2\n",
    "#To calculate the average rainfall for a specific station over a given period.\n",
    "weather.filter(weather['station'] =='aberporth') \\\n",
    ".groupby(\"year\").agg({\"rain\": \"mean\"}).orderBy(\"year\").show(100);"
   ]
  },
  {
   "cell_type": "code",
   "execution_count": 9,
   "id": "9b783d9e-2664-4c26-9538-7679af144834",
   "metadata": {},
   "outputs": [
    {
     "data": {
      "text/plain": [
       "[Row(station='aberporth', avg(tmax)=8.247619047619049),\n",
       " Row(station='armagh', avg(tmax)=7.7116279069767435),\n",
       " Row(station='ballypatrick', avg(tmax)=7.14090909090909),\n",
       " Row(station='bradford', avg(tmax)=6.554081632653061),\n",
       " Row(station='braemar', avg(tmax)=4.776744186046512),\n",
       " Row(station='camborne', avg(tmax)=9.878048780487807),\n",
       " Row(station='cambridge', avg(tmax)=7.444680851063831),\n",
       " Row(station='cardiff', avg(tmax)=9.011764705882353),\n",
       " Row(station='cwmystwyth', avg(tmax)=6.754545454545454),\n",
       " Row(station='dunstaffnage', avg(tmax)=7.870588235294116),\n",
       " Row(station='durham', avg(tmax)=6.489908256880733),\n",
       " Row(station='eastbourne', avg(tmax)=8.812280701754384),\n",
       " Row(station='eskdalemuir', avg(tmax)=5.46060606060606),\n",
       " Row(station='heathrow', avg(tmax)=8.384126984126983),\n",
       " Row(station='hurn', avg(tmax)=9.048076923076923),\n",
       " Row(station='lerwick', avg(tmax)=6.312359550561799),\n",
       " Row(station='leuchars', avg(tmax)=6.823809523809524),\n",
       " Row(station='lowestoft', avg(tmax)=7.324637681159419),\n",
       " Row(station='manston', avg(tmax)=8.240425531914894),\n",
       " Row(station='nairn', avg(tmax)=6.880769230769231),\n",
       " Row(station='newtonrigg', avg(tmax)=6.045454545454546),\n",
       " Row(station='oxford', avg(tmax)=7.779310344827584),\n",
       " Row(station='paisley', avg(tmax)=6.771153846153845),\n",
       " Row(station='ringway', avg(tmax)=7.245454545454544),\n",
       " Row(station='rossonwye', avg(tmax)=7.889610389610391),\n",
       " Row(station='shawbury', avg(tmax)=7.496825396825397),\n",
       " Row(station='sheffield', avg(tmax)=7.096666666666668),\n",
       " Row(station='southampton', avg(tmax)=8.516842105263157),\n",
       " Row(station='stornoway', avg(tmax)=7.686813186813184),\n",
       " Row(station='tiree', avg(tmax)=8.356666666666667),\n",
       " Row(station='valley', avg(tmax)=8.914606741573033),\n",
       " Row(station='waddington', avg(tmax)=6.898591549295771),\n",
       " Row(station='whitby', avg(tmax)=7.780000000000001),\n",
       " Row(station='wickairport', avg(tmax)=6.5874999999999995),\n",
       " Row(station='yeovilton', avg(tmax)=9.135135135135137)]"
      ]
     },
     "execution_count": 9,
     "metadata": {},
     "output_type": "execute_result"
    }
   ],
   "source": [
    "#GOAL:3\n",
    "#Finding the temperature for a specific month while considering all stations, regardless of the years.\n",
    "\n",
    "weather.filter(weather['month'] == \"12\").groupby(\"station\").agg({\"tmax\": \"mean\"}).orderBy(\"station\").head(300)"
   ]
  },
  {
   "cell_type": "code",
   "execution_count": 10,
   "id": "57dfc087-d957-4b1c-8fe9-edaf6c972e09",
   "metadata": {},
   "outputs": [
    {
     "data": {
      "text/plain": [
       "[Row(year=1957, month=4, tmax=11.3, tmin=6.2, aw=0, rain='7.4', sun=181.1, station='aberporth'),\n",
       " Row(year=1959, month=9, tmax=19.6, tmin=11.5, aw=0, rain='8.9', sun=217.4, station='aberporth'),\n",
       " Row(year=1975, month=6, tmax=17.0, tmin=10.5, aw=0, rain='4.3', sun=274.9, station='aberporth'),\n",
       " Row(year=1976, month=8, tmax=20.4, tmin=13.5, aw=0, rain='0.8', sun=288.5, station='aberporth'),\n",
       " Row(year=1984, month=4, tmax=12.5, tmin=5.1, aw=1, rain='8.4', sun=216.2, station='aberporth'),\n",
       " Row(year=1986, month=2, tmax=2.3, tmin=-2.7, aw=24, rain='0', sun=117.0, station='aberporth'),\n",
       " Row(year=1986, month=9, tmax=14.4, tmin=8.0, aw=0, rain='9.2', sun=161.4, station='aberporth'),\n",
       " Row(year=1991, month=5, tmax=12.6, tmin=7.6, aw=0, rain='9.4', sun=192.2, station='aberporth'),\n",
       " Row(year=1995, month=8, tmax=22.4, tmin=14.9, aw=0, rain='7.8', sun=292.1, station='aberporth'),\n",
       " Row(year=1997, month=1, tmax=5.8, tmin=1.0, aw=13, rain='4.6', sun=95.7, station='aberporth'),\n",
       " Row(year=2007, month=4, tmax=13.8, tmin=7.4, aw=0, rain='9.8', sun=235.1, station='aberporth'),\n",
       " Row(year=2020, month=5, tmax=16.8, tmin=8.6, aw=0, rain='7.4', sun=306.0, station='aberporth')]"
      ]
     },
     "execution_count": 10,
     "metadata": {},
     "output_type": "execute_result"
    }
   ],
   "source": [
    "\n",
    "#Goal 4\n",
    "\n",
    "#Filtering and calculating rain fall that is less than 10 mm for all months in a specific station Aberporth.\n",
    "\n",
    "weather.filter((weather['rain'] < 10) & \n",
    "          (weather['station'] =='aberporth')).select('*').head(100)\n",
    "     "
   ]
  },
  {
   "cell_type": "code",
   "execution_count": 11,
   "id": "891e362a-141e-476b-96d3-0f7dbbb08984",
   "metadata": {},
   "outputs": [
    {
     "data": {
      "text/plain": [
       "[Row(year=1984, month=6, tmax=21.0, tmin=9.9, aw=0, rain='22.6', sun=271.7, station='yeovilton'),\n",
       " Row(year=1984, month=7, tmax=23.3, tmin=11.1, aw=0, rain='23.1', sun=268.5, station='yeovilton'),\n",
       " Row(year=1984, month=8, tmax=23.1, tmin=12.7, aw=0, rain='30.2', sun=179.3, station='yeovilton'),\n",
       " Row(year=1985, month=7, tmax=21.4, tmin=11.1, aw=0, rain='41.5', sun=208.1, station='yeovilton'),\n",
       " Row(year=1986, month=6, tmax=20.5, tmin=10.0, aw=0, rain='34.7', sun=217.8, station='yeovilton'),\n",
       " Row(year=1986, month=7, tmax=20.7, tmin=11.4, aw=0, rain='42.4', sun=200.2, station='yeovilton'),\n",
       " Row(year=1987, month=7, tmax=21.2, tmin=11.6, aw=0, rain='32.5', sun=202.5, station='yeovilton'),\n",
       " Row(year=1987, month=8, tmax=21.3, tmin=11.0, aw=0, rain='29.4', sun=198.9, station='yeovilton'),\n",
       " Row(year=1989, month=6, tmax=20.8, tmin=9.4, aw=0, rain='22.3', sun=213.4, station='yeovilton'),\n",
       " Row(year=1989, month=7, tmax=24.4, tmin=13.2, aw=0, rain='73.7', sun=266.2, station='yeovilton'),\n",
       " Row(year=1989, month=8, tmax=22.4, tmin=11.4, aw=0, rain='40.5', sun=264.0, station='yeovilton'),\n",
       " Row(year=1990, month=7, tmax=23.8, tmin=12.2, aw=0, rain='22.1', sun=268.6, station='yeovilton'),\n",
       " Row(year=1990, month=8, tmax=23.7, tmin=12.0, aw=0, rain='46.8', sun=191.8, station='yeovilton'),\n",
       " Row(year=1991, month=7, tmax=20.8, tmin=12.7, aw=0, rain='77.4', sun=159.7, station='yeovilton'),\n",
       " Row(year=1991, month=8, tmax=22.2, tmin=12.4, aw=0, rain='37.7', sun=213.4, station='yeovilton'),\n",
       " Row(year=1991, month=9, tmax=20.3, tmin=10.4, aw=0, rain='69.2', sun=181.7, station='yeovilton'),\n",
       " Row(year=1992, month=6, tmax=21.6, tmin=10.1, aw=0, rain='92.5', sun=230.7, station='yeovilton'),\n",
       " Row(year=1992, month=7, tmax=20.8, tmin=12.7, aw=0, rain='54.7', sun=149.2, station='yeovilton'),\n",
       " Row(year=1993, month=6, tmax=20.6, tmin=10.5, aw=0, rain='67.7', sun=174.5, station='yeovilton'),\n",
       " Row(year=1993, month=7, tmax=20.2, tmin=11.8, aw=0, rain='62.6', sun=183.9, station='yeovilton'),\n",
       " Row(year=1993, month=8, tmax=20.1, tmin=10.4, aw=0, rain='20.1', sun=213.0, station='yeovilton'),\n",
       " Row(year=1994, month=7, tmax=23.4, tmin=12.9, aw=0, rain='38.9', sun=229.2, station='yeovilton'),\n",
       " Row(year=1994, month=8, tmax=21.0, tmin=12.5, aw=0, rain='73.6', sun=183.3, station='yeovilton'),\n",
       " Row(year=1995, month=7, tmax=24.2, tmin=13.2, aw=0, rain='16', sun=196.1, station='yeovilton'),\n",
       " Row(year=1995, month=8, tmax=26.9, tmin=13.1, aw=0, rain='17.4', sun=292.2, station='yeovilton'),\n",
       " Row(year=1996, month=7, tmax=22.4, tmin=11.4, aw=0, rain='17.2', sun=235.6, station='yeovilton'),\n",
       " Row(year=1996, month=8, tmax=22.0, tmin=11.3, aw=0, rain='56', sun=228.0, station='yeovilton'),\n",
       " Row(year=1997, month=7, tmax=22.1, tmin=10.8, aw=0, rain='30.3', sun=236.1, station='yeovilton'),\n",
       " Row(year=1997, month=8, tmax=23.4, tmin=14.8, aw=0, rain='151', sun=141.0, station='yeovilton'),\n",
       " Row(year=1998, month=8, tmax=21.4, tmin=10.5, aw=0, rain='24.2', sun=243.2, station='yeovilton'),\n",
       " Row(year=1999, month=7, tmax=23.3, tmin=12.0, aw=0, rain='10', sun=233.4, station='yeovilton'),\n",
       " Row(year=1999, month=8, tmax=21.4, tmin=12.6, aw=0, rain='114.6', sun=168.7, station='yeovilton'),\n",
       " Row(year=1999, month=9, tmax=20.2, tmin=10.7, aw=0, rain='130.2', sun=153.4, station='yeovilton'),\n",
       " Row(year=2000, month=7, tmax=20.4, tmin=11.2, aw=0, rain='53.8', sun=200.8, station='yeovilton'),\n",
       " Row(year=2000, month=8, tmax=21.8, tmin=12.4, aw=0, rain='44.6', sun=192.2, station='yeovilton'),\n",
       " Row(year=2001, month=7, tmax=21.8, tmin=11.9, aw=0, rain='81.4', sun=203.8, station='yeovilton'),\n",
       " Row(year=2001, month=8, tmax=21.6, tmin=12.7, aw=0, rain='79.4', sun=177.9, station='yeovilton'),\n",
       " Row(year=2002, month=7, tmax=20.1, tmin=11.6, aw=0, rain='63.6', sun=170.8, station='yeovilton'),\n",
       " Row(year=2002, month=8, tmax=21.3, tmin=11.9, aw=0, rain='46.8', sun=191.8, station='yeovilton'),\n",
       " Row(year=2003, month=6, tmax=21.1, tmin=10.7, aw=0, rain='47.2', sun=217.0, station='yeovilton'),\n",
       " Row(year=2003, month=8, tmax=24.6, tmin=13.1, aw=0, rain='11.6', sun=191.7, station='yeovilton'),\n",
       " Row(year=2003, month=9, tmax=20.9, tmin=8.2, aw=1, rain='5', sun=166.3, station='yeovilton'),\n",
       " Row(year=2004, month=6, tmax=20.7, tmin=10.7, aw=0, rain='35.8', sun=219.0, station='yeovilton'),\n",
       " Row(year=2004, month=7, tmax=20.7, tmin=11.3, aw=0, rain='48.4', sun=148.8, station='yeovilton'),\n",
       " Row(year=2004, month=8, tmax=22.3, tmin=12.9, aw=0, rain='95.5', sun=177.2, station='yeovilton'),\n",
       " Row(year=2005, month=7, tmax=21.8, tmin=12.7, aw=0, rain='54.4', sun=198.3, station='yeovilton'),\n",
       " Row(year=2005, month=8, tmax=21.9, tmin=10.4, aw=0, rain='41.9', sun=229.6, station='yeovilton'),\n",
       " Row(year=2005, month=9, tmax=20.5, tmin=10.7, aw=0, rain='26.2', sun=158.8, station='yeovilton'),\n",
       " Row(year=2006, month=6, tmax=21.8, tmin=10.2, aw=0, rain='32.7', sun=249.5, station='yeovilton'),\n",
       " Row(year=2006, month=7, tmax=26.0, tmin=13.3, aw=0, rain='29.9', sun=292.2, station='yeovilton'),\n",
       " Row(year=2006, month=8, tmax=21.4, tmin=12.9, aw=0, rain='49.8', sun=157.0, station='yeovilton'),\n",
       " Row(year=2006, month=9, tmax=21.6, tmin=12.4, aw=0, rain='53.1', sun=136.1, station='yeovilton'),\n",
       " Row(year=2007, month=8, tmax=20.6, tmin=10.9, aw=0, rain='54', sun=200.8, station='yeovilton'),\n",
       " Row(year=2008, month=7, tmax=20.8, tmin=12.2, aw=0, rain='93.4', sun=164.0, station='yeovilton'),\n",
       " Row(year=2009, month=6, tmax=20.8, tmin=10.5, aw=0, rain='52.4', sun=190.2, station='yeovilton'),\n",
       " Row(year=2009, month=7, tmax=20.1, tmin=12.5, aw=0, rain='111.2', sun=131.7, station='yeovilton'),\n",
       " Row(year=2009, month=8, tmax=20.4, tmin=12.5, aw=0, rain='40.6', sun=144.4, station='yeovilton'),\n",
       " Row(year=2010, month=6, tmax=21.6, tmin=9.8, aw=0, rain='31', sun=266.1, station='yeovilton'),\n",
       " Row(year=2010, month=7, tmax=22.5, tmin=13.0, aw=0, rain='22.4', sun=176.0, station='yeovilton'),\n",
       " Row(year=2010, month=8, tmax=20.8, tmin=11.3, aw=0, rain='72.6', sun=139.3, station='yeovilton'),\n",
       " Row(year=2011, month=7, tmax=20.7, tmin=11.1, aw=0, rain='30.4', sun=176.0, station='yeovilton'),\n",
       " Row(year=2011, month=8, tmax=20.1, tmin=11.6, aw=0, rain='70.2', sun=127.2, station='yeovilton'),\n",
       " Row(year=2012, month=8, tmax=20.7, tmin=13.6, aw=0, rain='105.8', sun=139.6, station='yeovilton'),\n",
       " Row(year=2013, month=7, tmax=25.3, tmin=13.0, aw=0, rain='40.4', sun=287.0, station='yeovilton'),\n",
       " Row(year=2013, month=8, tmax=22.4, tmin=12.3, aw=0, rain='15.2', sun=162.2, station='yeovilton'),\n",
       " Row(year=2014, month=6, tmax=20.7, tmin=11.1, aw=0, rain='79', sun=219.8, station='yeovilton'),\n",
       " Row(year=2014, month=7, tmax=23.3, tmin=12.8, aw=0, rain='56.8', sun=248.0, station='yeovilton'),\n",
       " Row(year=2014, month=9, tmax=21.1, tmin=10.5, aw=0, rain='3.2', sun=129.7, station='yeovilton'),\n",
       " Row(year=2015, month=6, tmax=20.1, tmin=9.5, aw=0, rain='23.8', sun=216.5, station='yeovilton'),\n",
       " Row(year=2015, month=7, tmax=21.3, tmin=12.0, aw=0, rain='66.6', sun=150.5, station='yeovilton'),\n",
       " Row(year=2015, month=8, tmax=20.2, tmin=11.5, aw=0, rain='95.6', sun=118.2, station='yeovilton'),\n",
       " Row(year=2016, month=7, tmax=21.8, tmin=12.8, aw=0, rain='4.4', sun=158.0, station='yeovilton'),\n",
       " Row(year=2016, month=8, tmax=22.8, tmin=12.5, aw=0, rain='35.2', sun=209.7, station='yeovilton'),\n",
       " Row(year=2016, month=9, tmax=20.4, tmin=12.1, aw=0, rain='47.6', sun=117.8, station='yeovilton'),\n",
       " Row(year=2017, month=6, tmax=21.2, tmin=11.7, aw=0, rain='60.6', sun=173.8, station='yeovilton'),\n",
       " Row(year=2017, month=7, tmax=21.7, tmin=13.1, aw=0, rain='68', sun=156.2, station='yeovilton'),\n",
       " Row(year=2018, month=6, tmax=22.8, tmin=11.6, aw=0, rain='5.6', sun=248.3, station='yeovilton'),\n",
       " Row(year=2018, month=7, tmax=25.9, tmin=13.5, aw=0, rain='13.8', sun=242.3, station='yeovilton'),\n",
       " Row(year=2018, month=8, tmax=22.6, tmin=12.8, aw=0, rain='53.8', sun=138.5, station='yeovilton'),\n",
       " Row(year=2019, month=7, tmax=24.0, tmin=12.6, aw=0, rain='14.8', sun=221.1, station='yeovilton'),\n",
       " Row(year=2019, month=8, tmax=22.6, tmin=12.4, aw=0, rain='38.4', sun=176.6, station='yeovilton'),\n",
       " Row(year=2020, month=6, tmax=20.5, tmin=11.0, aw=0, rain='103', sun=187.6, station='yeovilton')]"
      ]
     },
     "execution_count": 11,
     "metadata": {},
     "output_type": "execute_result"
    }
   ],
   "source": [
    "#Goal 5\n",
    "\n",
    "#To measure the maximum temperature that exceeds 20 degrees Celsius in a specific station yeovilton\n",
    "\n",
    "weather.filter('tmax > 20 and station=\"yeovilton\"').head(200)\n",
    "     "
   ]
  },
  {
   "cell_type": "code",
   "execution_count": 13,
   "id": "e69b2b45-aae0-47e7-ab2d-a1178221b281",
   "metadata": {},
   "outputs": [],
   "source": [
    "#Goal 6\n",
    "#To estimate the stations' maximum air wind during a specific year.\n",
    "\n",
    "goupList =[\"station\",\"year\"]\n",
    "orderList =[\"station\"]\n",
    "columns = [\"station\",\"year\",\"month\",\"af\"]\n",
    "weather.groupby(goupList) \\\n",
    ".max(\"aw\") \\\n",
    ".withColumnRenamed(\"max(af)\",\"max air Wind\").orderBy(orderList).write.csv(\"goal6\")"
   ]
  },
  {
   "cell_type": "code",
   "execution_count": null,
   "id": "e1326cc2-50d1-4555-8ae6-38c3a40bd2e2",
   "metadata": {},
   "outputs": [],
   "source": []
  }
 ],
 "metadata": {
  "kernelspec": {
   "display_name": "Python 3 (ipykernel)",
   "language": "python",
   "name": "python3"
  },
  "language_info": {
   "codemirror_mode": {
    "name": "ipython",
    "version": 3
   },
   "file_extension": ".py",
   "mimetype": "text/x-python",
   "name": "python",
   "nbconvert_exporter": "python",
   "pygments_lexer": "ipython3",
   "version": "3.10.7"
  }
 },
 "nbformat": 4,
 "nbformat_minor": 5
}
