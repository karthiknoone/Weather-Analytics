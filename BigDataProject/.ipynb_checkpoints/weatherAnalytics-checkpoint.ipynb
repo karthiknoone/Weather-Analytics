{
 "cells": [
  {
   "cell_type": "code",
   "execution_count": 1,
   "id": "6a6ecdb0-3f5a-4c99-be22-83df51585d0d",
   "metadata": {},
   "outputs": [],
   "source": [
    "import findspark\n",
    "findspark.init()\n",
    "\n",
    "import pyspark\n"
   ]
  },
  {
   "cell_type": "code",
   "execution_count": 2,
   "id": "c857253f-020a-4000-bc58-8a31a7c2aa00",
   "metadata": {},
   "outputs": [],
   "source": [
    "import pyspark\n",
    "from pyspark.sql import SparkSession"
   ]
  },
  {
   "cell_type": "code",
   "execution_count": 3,
   "id": "661e0044-d052-46a9-9f95-75f9b2c89be0",
   "metadata": {},
   "outputs": [
    {
     "name": "stdout",
     "output_type": "stream",
     "text": [
      "+-----+\n",
      "|hello|\n",
      "+-----+\n",
      "|spark|\n",
      "+-----+\n",
      "\n"
     ]
    }
   ],
   "source": [
    "spark = SparkSession.builder.getOrCreate()\n",
    "df = spark.sql(\"select 'spark' as hello \")\n",
    "df.show()"
   ]
  },
  {
   "cell_type": "code",
   "execution_count": 4,
   "id": "540cbd3e-31d8-4e9d-b703-16b7b4655ed8",
   "metadata": {},
   "outputs": [
    {
     "name": "stdout",
     "output_type": "stream",
     "text": [
      "Dataframe Shape:  (26078, 8)\n"
     ]
    }
   ],
   "source": [
    "weather = spark.read.csv('export.csv', inferSchema=True, header=True)\n",
    "#Checking out the dataframe to display  number of rows x columns\n",
    "print(\"Dataframe Shape: \", (weather.count(), len(weather.columns)))"
   ]
  },
  {
   "cell_type": "code",
   "execution_count": 5,
   "id": "ff757341-e41f-4a77-9202-61eb253b4e69",
   "metadata": {},
   "outputs": [],
   "source": [
    "#GOAL:1\n",
    "#Calculate the mean rainfall from all stations for the given years.\n",
    "\n",
    "from pyspark.sql.functions import col\n",
    "goupList =[\"station\",\"year\"]\n",
    "weather.groupby(goupList).agg({\"rain\": \"mean\"}).orderBy(goupList).write.csv(\"goal1\")"
   ]
  },
  {
   "cell_type": "code",
   "execution_count": 6,
   "id": "7b748d9e-5f1a-41c7-bb86-72a2da60f5f4",
   "metadata": {},
   "outputs": [
    {
     "name": "stdout",
     "output_type": "stream",
     "text": [
      "+----+------------------+\n",
      "|year|         avg(rain)|\n",
      "+----+------------------+\n",
      "|1957| 79.89166666666667|\n",
      "|1958| 89.92500000000001|\n",
      "|1959| 83.81666666666665|\n",
      "|1960|           107.675|\n",
      "|1961|             80.95|\n",
      "|1962| 67.59166666666667|\n",
      "|1963| 66.35000000000001|\n",
      "|1964|56.741666666666674|\n",
      "|1965| 75.14166666666667|\n",
      "|1966|             80.55|\n",
      "|1967| 80.46666666666667|\n",
      "|1968| 67.44999999999999|\n",
      "|1969| 66.69166666666666|\n",
      "|1970|              73.1|\n",
      "|1971| 73.37499999999999|\n",
      "|1972| 75.91666666666667|\n",
      "|1973| 62.98333333333334|\n",
      "|1974| 83.04166666666667|\n",
      "|1975|              54.6|\n",
      "|1976|             60.75|\n",
      "|1977| 74.38333333333334|\n",
      "|1978| 61.21666666666667|\n",
      "|1979| 81.30000000000001|\n",
      "|1980| 68.94166666666666|\n",
      "|1981| 78.54166666666667|\n",
      "|1982| 76.46666666666667|\n",
      "|1983| 68.47500000000001|\n",
      "|1984| 71.05833333333334|\n",
      "|1985| 72.58333333333333|\n",
      "|1986| 73.74166666666666|\n",
      "|1987| 70.97500000000001|\n",
      "|1988| 74.84166666666665|\n",
      "|1989| 65.35833333333333|\n",
      "|1990| 62.64166666666668|\n",
      "|1991| 64.12500000000001|\n",
      "|1992|            76.125|\n",
      "|1993| 82.26666666666667|\n",
      "|1994| 87.58333333333333|\n",
      "|1995| 69.06666666666666|\n",
      "|1996| 57.74166666666667|\n",
      "|1997|              74.3|\n",
      "|1998| 80.86666666666667|\n",
      "|1999| 79.54166666666667|\n",
      "|2000|             92.55|\n",
      "|2001| 79.25714285714285|\n",
      "|2002| 91.12727272727271|\n",
      "|2003| 59.01666666666667|\n",
      "|2004| 77.93636363636364|\n",
      "|2005| 68.56666666666666|\n",
      "|2006| 71.63333333333333|\n",
      "|2007| 74.36666666666666|\n",
      "|2008| 85.44166666666666|\n",
      "|2009| 84.16666666666664|\n",
      "|2010| 59.48333333333333|\n",
      "|2011| 61.38333333333333|\n",
      "|2012| 96.06666666666666|\n",
      "|2013| 72.79166666666667|\n",
      "|2014| 87.16666666666667|\n",
      "|2015|             84.85|\n",
      "|2016| 70.16666666666667|\n",
      "|2017| 84.03333333333335|\n",
      "|2018| 83.68333333333334|\n",
      "|2019| 85.93333333333334|\n",
      "|2020|              74.5|\n",
      "+----+------------------+\n",
      "\n"
     ]
    }
   ],
   "source": [
    "#Goal 2\n",
    "#To calculate the average rainfall for a specific station over a given period.\n",
    "weather.filter(weather['station'] =='aberporth') \\\n",
    ".groupby(\"year\").agg({\"rain\": \"mean\"}).orderBy(\"year\").show(100);"
   ]
  },
  {
   "cell_type": "code",
   "execution_count": null,
   "id": "9b783d9e-2664-4c26-9538-7679af144834",
   "metadata": {},
   "outputs": [],
   "source": []
  }
 ],
 "metadata": {
  "kernelspec": {
   "display_name": "Python 3 (ipykernel)",
   "language": "python",
   "name": "python3"
  },
  "language_info": {
   "codemirror_mode": {
    "name": "ipython",
    "version": 3
   },
   "file_extension": ".py",
   "mimetype": "text/x-python",
   "name": "python",
   "nbconvert_exporter": "python",
   "pygments_lexer": "ipython3",
   "version": "3.10.7"
  }
 },
 "nbformat": 4,
 "nbformat_minor": 5
}
